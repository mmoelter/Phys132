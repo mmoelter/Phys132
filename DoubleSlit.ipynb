{
 "cells": [
  {
   "cell_type": "code",
   "execution_count": 1,
   "metadata": {},
   "outputs": [],
   "source": [
    "%matplotlib inline\n",
    "from ipywidgets import interactive\n",
    "import matplotlib.pyplot as plt\n",
    "import numpy as np\n",
    "plt.rcParams['font.size'] = 14"
   ]
  },
  {
   "cell_type": "markdown",
   "metadata": {},
   "source": [
    "# To run, use menu: *Cell/Run All*, then scroll down to plot\n",
    "## Double Slit Visualizer\n",
    "This will calculate and graph the intensity pattern for a double-slit system.\n",
    "The double slit interference pattern is modulated by the single slit diffraction effects.\n",
    "The screen is assumed far away and the visualizer allows you to change the wavelength, slit width and slit spacing.\n",
    "$$I_{double-slit}(x) = I_{ds}\\cos^2\\Big(\\frac{\\pi d x}{\\lambda L}\\Big)\\text{  and  } \n",
    "I_{single}(x) = I_{ss}\\Big(\\frac{\\sin(\\pi a x/\\lambda L}{\\pi a x/\\lambda L}\\Big)^2$$\n",
    "\n",
    "The function below 'DoubleSlitCalculator' plots the two signals and their sum."
   ]
  },
  {
   "cell_type": "code",
   "execution_count": 2,
   "metadata": {},
   "outputs": [],
   "source": [
    "def DoubleSlitCalculator(lam,a,d):\n",
    "    A1 = 1\n",
    "    lam = lam*1e-9\n",
    "    a = a*1e-3\n",
    "    d = d*1e-3\n",
    "    I_1 = 1\n",
    "    L = 2.5 \n",
    "    x = np.linspace(-0.15,0.15,1000)\n",
    "    theta = np.pi*d*x/(lam*L) \n",
    "    A_ds = I_1*(np.cos(theta))**2\n",
    "    alpha = np.pi*a*x/(lam*L)\n",
    "    A_ss = I_1*(np.sin(alpha)/alpha)**2\n",
    "    A_tot = A_ds * A_ss\n",
    "    plt.figure(figsize=[10,6])\n",
    "    plt.plot(x,A_ds,'b',label='double slit')\n",
    "    plt.plot(x,A_ss,'r',label='single slit')\n",
    "    plt.plot(x,A_tot,'k',label='Total')\n",
    "#     plt.ylim(-3.1,3.1)\n",
    "#     plt.xlim(0,(numlam)*lam)\n",
    "    plt.xlabel('position (m)')\n",
    "    plt.ylabel('Intensity (arb units)')\n",
    "    plt.legend(bbox_to_anchor=(1.05, 1), loc='best', borderaxespad=0.)\n",
    "    plt.grid(True)\n",
    "    plt.show()"
   ]
  },
  {
   "cell_type": "markdown",
   "metadata": {},
   "source": [
    "Graph: Individual and total intensities $I_{net} = I_{double-slit} I_{single}$. \n",
    "--------------------------------------"
   ]
  },
  {
   "cell_type": "markdown",
   "metadata": {},
   "source": [
    "As you explore, a good strategy is to adjust only one variable at a time.\n",
    "* The wavelength (\"lam\") is measured in nanometers ($10^{-9}$m).\n",
    "* The slit width (\"a\") and the slit spacing (\"d\") are measured in millimeters (mm)."
   ]
  },
  {
   "cell_type": "code",
   "execution_count": 5,
   "metadata": {},
   "outputs": [
    {
     "data": {
      "application/vnd.jupyter.widget-view+json": {
       "model_id": "9291d8dd8ad5492abc23aa2913a73f61",
       "version_major": 2,
       "version_minor": 0
      },
      "text/plain": [
       "interactive(children=(IntSlider(value=540, description='lam', max=700, min=400, step=20), FloatSlider(value=0.…"
      ]
     },
     "metadata": {},
     "output_type": "display_data"
    }
   ],
   "source": [
    "interactive_plot = interactive(DoubleSlitCalculator, lam=(400,700,20), a=(0.01,0.05,0.002),d=(0.08,0.4,0.02),\n",
    "                               continuous_update=False)\n",
    "output = interactive_plot.children[-1]\n",
    "output.layout.height = '400px'\n",
    "interactive_plot"
   ]
  },
  {
   "cell_type": "code",
   "execution_count": null,
   "metadata": {},
   "outputs": [],
   "source": []
  },
  {
   "cell_type": "code",
   "execution_count": null,
   "metadata": {},
   "outputs": [],
   "source": []
  }
 ],
 "metadata": {
  "kernelspec": {
   "display_name": "Python 3",
   "language": "python",
   "name": "python3"
  },
  "language_info": {
   "codemirror_mode": {
    "name": "ipython",
    "version": 3
   },
   "file_extension": ".py",
   "mimetype": "text/x-python",
   "name": "python",
   "nbconvert_exporter": "python",
   "pygments_lexer": "ipython3",
   "version": "3.6.6"
  }
 },
 "nbformat": 4,
 "nbformat_minor": 2
}
