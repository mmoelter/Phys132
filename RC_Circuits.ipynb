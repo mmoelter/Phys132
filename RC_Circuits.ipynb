{
 "cells": [
  {
   "cell_type": "code",
   "execution_count": 1,
   "metadata": {
    "collapsed": true
   },
   "outputs": [],
   "source": [
    "%matplotlib inline\n",
    "from ipywidgets import interactive\n",
    "import matplotlib.pyplot as plt\n",
    "import numpy as np\n",
    "plt.rcParams['font.size'] = 12"
   ]
  },
  {
   "cell_type": "markdown",
   "metadata": {},
   "source": [
    "RC Circuit Simulator\n",
    "===========\n",
    "This is a simulation of a simple $RC$ circuit that has a resistor, $R$, a capacitor, $C$, a switch, and a battery that provides the potential difference. The capacitor is initially uncharged. The simulator tracks the voltage across the resistor, the charge on the capacitor, and the current after the switch is closed as you vary the potential difference across the battery, the resistance, and/or the capacitance.\n",
    "\n",
    "The function RC_Circuit_Voltage_Resistor plots the voltage across the resistor.\n",
    "The function RC_Circuit_CurrentCharge plots the current in the circuit and the charge on the capacitor."
   ]
  },
  {
   "cell_type": "code",
   "execution_count": 2,
   "metadata": {
    "collapsed": true
   },
   "outputs": [],
   "source": [
    "def RC_Circuit_Voltage_Resistor(emf, tau):\n",
    "    plt.figure(2)\n",
    "    x = np.linspace(0, 40, num=40)\n",
    "    plt.plot(x, emf*np.exp(-x/tau),'b')\n",
    "    plt.ylim(0, 12)\n",
    "    plt.xlabel('Time (s)')\n",
    "    plt.ylabel('Voltage (Volts)')\n",
    "    plt.title(\"Graph 1: $\\Delta V_R$\")\n",
    "    plt.grid(True)\n",
    "    plt.show()\n",
    "    \n",
    "def RC_Circuit_CurrentCharge(emf, R, C):\n",
    "\n",
    "    tau = R*C\n",
    "    I0 = emf/R\n",
    "    Q0 = emf * C\n",
    "    \n",
    "    plt.figure(2, figsize=(12,6))\n",
    "    x = np.linspace(0, 50, num=50)\n",
    "    \n",
    "    plt.subplot(1,2,1)\n",
    "    plt.plot(x, I0*np.exp(-x/tau),'b')\n",
    "    plt.ylim(0, 12)\n",
    "    plt.xlabel('Time (s)')\n",
    "    plt.ylabel('Current (A)')\n",
    "    plt.grid(True)\n",
    "    plt.title(\"Graph 2: Current\")\n",
    "    \n",
    "    plt.subplot(1,2,2)\n",
    "    plt.plot(x, Q0*(1-np.exp(-x/tau)),'r')\n",
    "    plt.ylim(0, 50)\n",
    "    plt.xlabel('Time (s)')\n",
    "    plt.ylabel('Charge (C)')\n",
    "    plt.grid(True)\n",
    "    plt.title(\"Graph 3: Charge\")\n",
    "    plt.show()"
   ]
  },
  {
   "cell_type": "markdown",
   "metadata": {
    "collapsed": true
   },
   "source": [
    "Graph 1: The voltage across the resistor. \n",
    "--------------------------------------"
   ]
  },
  {
   "cell_type": "markdown",
   "metadata": {},
   "source": [
    "As you explore your circuit, a good strategy is to adjust only one variable at a time."
   ]
  },
  {
   "cell_type": "code",
   "execution_count": 7,
   "metadata": {},
   "outputs": [
    {
     "data": {
      "application/vnd.jupyter.widget-view+json": {
       "model_id": "cb46fd3e3e9547e9972e965f4053bf1f",
       "version_major": 2,
       "version_minor": 0
      },
      "text/plain": [
       "A Jupyter Widget"
      ]
     },
     "metadata": {},
     "output_type": "display_data"
    }
   ],
   "source": [
    "interactive_plot = interactive(RC_Circuit_Voltage_Resistor, emf=(0, 10.0,1), tau=(1e-4, 25, 1),\n",
    "                               continuous_update=False)\n",
    "output = interactive_plot.children[-1]\n",
    "output.layout.height = '300px'\n",
    "interactive_plot"
   ]
  },
  {
   "cell_type": "markdown",
   "metadata": {},
   "source": [
    "Graph 2: The current in the circuit. \n",
    "--------\n",
    " \n",
    "     and \n",
    "\n",
    "Graph 3: The charge on the capacitor. \n",
    "--------"
   ]
  },
  {
   "cell_type": "markdown",
   "metadata": {},
   "source": [
    "As you explore your circuit, a good strategy is to adjust only one variable at a time."
   ]
  },
  {
   "cell_type": "code",
   "execution_count": 6,
   "metadata": {},
   "outputs": [
    {
     "data": {
      "application/vnd.jupyter.widget-view+json": {
       "model_id": "dfae4ffa273f4ec6834c50aab00ebc96",
       "version_major": 2,
       "version_minor": 0
      },
      "text/plain": [
       "A Jupyter Widget"
      ]
     },
     "metadata": {},
     "output_type": "display_data"
    }
   ],
   "source": [
    "interactive_plot = interactive(RC_Circuit_CurrentCharge, emf=(0, 10.0,0.5), R=(0.01, 5, 0.1), C=(0.01, 5, 0.1),\n",
    "                               continuous_update=False)\n",
    "output = interactive_plot.children[-1]\n",
    "output.layout.height = '400px'\n",
    "interactive_plot"
   ]
  },
  {
   "cell_type": "code",
   "execution_count": null,
   "metadata": {
    "collapsed": true
   },
   "outputs": [],
   "source": []
  },
  {
   "cell_type": "code",
   "execution_count": null,
   "metadata": {
    "collapsed": true
   },
   "outputs": [],
   "source": []
  }
 ],
 "metadata": {
  "kernelspec": {
   "display_name": "Python 3.6",
   "language": "python",
   "name": "python36"
  },
  "language_info": {
   "codemirror_mode": {
    "name": "ipython",
    "version": 3
   },
   "file_extension": ".py",
   "mimetype": "text/x-python",
   "name": "python",
   "nbconvert_exporter": "python",
   "pygments_lexer": "ipython3",
   "version": "3.6.2"
  }
 },
 "nbformat": 4,
 "nbformat_minor": 2
}
