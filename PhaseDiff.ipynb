{
 "cells": [
  {
   "cell_type": "code",
   "execution_count": 51,
   "metadata": {},
   "outputs": [],
   "source": [
    "%matplotlib inline\n",
    "from ipywidgets import interactive\n",
    "import matplotlib.pyplot as plt\n",
    "import numpy as np\n",
    "plt.rcParams['font.size'] = 14"
   ]
  },
  {
   "cell_type": "markdown",
   "metadata": {},
   "source": [
    "# To run, use menu: *Cell/Run All*, then scroll down to plot\n",
    "## Phase Difference Visualizer\n",
    "This will calculate and graph the interference of two sinusoidal waves with the same wavelength, $\\lambda$.  Suppose two speakers are aligned along a common axis.  The visualizer allows you to change the physical position, amplitude and phase of a second speaker relative to the first.  The two waves are given by\n",
    "$$D_1(x) = A_1\\sin(kx) \\text{  and  } D_2(x) = A_2\\sin(kx+\\phi_0)$$\n",
    "The amplitude of speaker 1 is fixed, $A_1= 1\\text{ cm}$.\n",
    "\n",
    "The function below 'PhaseDiffCalculator' plots the two signals and their sum."
   ]
  },
  {
   "cell_type": "code",
   "execution_count": 74,
   "metadata": {},
   "outputs": [],
   "source": [
    "def PhaseDiffCalculator(dx,A2,phi0frac):\n",
    "    A1 = 1\n",
    "    lam = 2\n",
    "    k = 2*np.pi/lam\n",
    "    N = 100\n",
    "    numlam = 4\n",
    "    x = np.linspace(0, numlam*lam, num=N)\n",
    "#     x2 = np.linspace(0, numlam*lam, num=N)\n",
    "    deltaxzer = np.zeros((1,int(abs(dx)*N/4)))\n",
    "    dxnum = dx*lam\n",
    "    x2shift = x+dxnum\n",
    "#     print(x,x2)\n",
    "#     x1 = np.append(x,deltaxzer)\n",
    "    x1 = np.linspace(0,numlam*lam + dx*lam,N+int(abs(dx)*N/4))\n",
    "    \n",
    "#     x1 = x\n",
    "    x2 = np.append(deltaxzer,x)\n",
    "    D1 = A1*np.sin(k*x1)\n",
    "    D2vis = A2*np.sin(k*x+phi0frac*2*np.pi)\n",
    "    D2 = A2*np.sin(k*x2+phi0frac*2*np.pi)\n",
    "    Dtot = D1+D2\n",
    "    plt.figure(figsize=[8,4])\n",
    "    plt.plot(x1,D1,'b.',label='Spkr 1')\n",
    "    plt.plot(x2shift,D2vis,'r.',label='Spkr 2')\n",
    "    plt.plot(x1,Dtot,'k',label='Both')\n",
    "    plt.ylim(-3.1,3.1)\n",
    "    plt.xlim(0,(numlam)*lam)\n",
    "    plt.xlabel('position (m)')\n",
    "    plt.ylabel('D1, D2, D (cm)')\n",
    "    plt.legend(bbox_to_anchor=(1.05, 1), loc='upper left', borderaxespad=0.)\n",
    "    plt.grid(True)\n",
    "    plt.show()"
   ]
  },
  {
   "cell_type": "markdown",
   "metadata": {},
   "source": [
    "Graph: The sum of the two waves $D_{net} = D_1 + D_ 2$. \n",
    "--------------------------------------"
   ]
  },
  {
   "cell_type": "markdown",
   "metadata": {},
   "source": [
    "As you explore, a good strategy is to adjust only one variable at a time.\n",
    "* The displacement of the second speaker from the origin, $\\Delta x$, is measured as a fraction of a wavelength. \"dx\" = 1 means the second speaker is moved forward by one wavelength.\n",
    "* The phase difference in the speakers is measured as a fraction of period. \"phi0frac\" = 1 means 2$\\pi$ out of phase."
   ]
  },
  {
   "cell_type": "code",
   "execution_count": 77,
   "metadata": {},
   "outputs": [
    {
     "data": {
      "application/vnd.jupyter.widget-view+json": {
       "model_id": "e815a5ada30a4501afed910f2c25c692",
       "version_major": 2,
       "version_minor": 0
      },
      "text/plain": [
       "interactive(children=(FloatSlider(value=1.0, description='dx', max=2.0, step=0.05), FloatSlider(value=1.0, des…"
      ]
     },
     "metadata": {},
     "output_type": "display_data"
    }
   ],
   "source": [
    "interactive_plot = interactive(PhaseDiffCalculator, dx=(0,2,0.05), A2=(0,2,0.1),phi0frac=(-1,1,0.05),\n",
    "                               continuous_update=False)\n",
    "output = interactive_plot.children[-1]\n",
    "output.layout.height = '300px'\n",
    "interactive_plot"
   ]
  }
 ],
 "metadata": {
  "kernelspec": {
   "display_name": "Python 3",
   "language": "python",
   "name": "python3"
  },
  "language_info": {
   "codemirror_mode": {
    "name": "ipython",
    "version": 3
   },
   "file_extension": ".py",
   "mimetype": "text/x-python",
   "name": "python",
   "nbconvert_exporter": "python",
   "pygments_lexer": "ipython3",
   "version": "3.6.4"
  }
 },
 "nbformat": 4,
 "nbformat_minor": 2
}
