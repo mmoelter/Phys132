{
 "cells": [
  {
   "cell_type": "code",
   "execution_count": 36,
   "metadata": {},
   "outputs": [],
   "source": [
    "%matplotlib inline\n",
    "from ipywidgets import interactive\n",
    "import matplotlib.pyplot as plt\n",
    "import numpy as np\n",
    "plt.rcParams['font.size'] = 14"
   ]
  },
  {
   "cell_type": "markdown",
   "metadata": {},
   "source": [
    "# To run, use menu: *Cell/Run All*, then scroll down to plot\n",
    "## Phase Constant Visualizer\n",
    "This will calculate and graph the an oscillator with variable amplitude, $A$, frequency, $\\omega$, and phase constant, $\\phi_0$.  \n",
    "\n",
    "The function below 'PhaseConstCalculator' plots the function."
   ]
  },
  {
   "cell_type": "code",
   "execution_count": 37,
   "metadata": {},
   "outputs": [],
   "source": [
    "def PhaseConstCalculator(A,w,phi0):\n",
    "    t = np.linspace(0,20,100)\n",
    "    x = A*np.cos(w*t+phi0)\n",
    "    plt.figure(figsize=[8,4])\n",
    "    plt.plot(t,x,'b')\n",
    "    plt.ylim(-4,4)\n",
    "#     plt.xlim(0,(numlam)*lam)\n",
    "    plt.xlabel(r'$t$ (s)')\n",
    "    plt.ylabel(r'$x$ (cm)')\n",
    "    plt.title(r'$A\\cos(\\omega t+\\phi_0)$')\n",
    "#     plt.legend(bbox_to_anchor=(1.05, 1), loc='upper left', borderaxespad=0.)\n",
    "    plt.grid(True)\n",
    "    plt.show()"
   ]
  },
  {
   "cell_type": "markdown",
   "metadata": {},
   "source": [
    "As you explore, a good strategy is to adjust only one variable at a time."
   ]
  },
  {
   "cell_type": "code",
   "execution_count": 38,
   "metadata": {},
   "outputs": [
    {
     "data": {
      "application/vnd.jupyter.widget-view+json": {
       "model_id": "6079944d547f40adaef9d673b40ff834",
       "version_major": 2,
       "version_minor": 0
      },
      "text/plain": [
       "interactive(children=(FloatSlider(value=1.0, description='A', max=3.0, step=0.2), FloatSlider(value=1.0, descr…"
      ]
     },
     "metadata": {},
     "output_type": "display_data"
    }
   ],
   "source": [
    "interactive_plot = interactive(PhaseConstCalculator, A=(0,3,0.2), w=(0,2,0.1),\n",
    "                               phi0=(-np.pi,np.pi,0.1),continuous_update=False)\n",
    "output = interactive_plot.children[-1]\n",
    "output.layout.height = '300px'\n",
    "interactive_plot"
   ]
  }
 ],
 "metadata": {
  "kernelspec": {
   "display_name": "Python 3",
   "language": "python",
   "name": "python3"
  },
  "language_info": {
   "codemirror_mode": {
    "name": "ipython",
    "version": 3
   },
   "file_extension": ".py",
   "mimetype": "text/x-python",
   "name": "python",
   "nbconvert_exporter": "python",
   "pygments_lexer": "ipython3",
   "version": "3.6.6"
  }
 },
 "nbformat": 4,
 "nbformat_minor": 2
}
